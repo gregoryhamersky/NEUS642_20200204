{
  "nbformat": 4,
  "nbformat_minor": 0,
  "metadata": {
    "colab": {
      "name": "Auditory Encoding Model.ipynb",
      "provenance": [],
      "collapsed_sections": [],
      "include_colab_link": true
    },
    "kernelspec": {
      "name": "python3",
      "display_name": "Python 3"
    }
  },
  "cells": [
    {
      "cell_type": "markdown",
      "metadata": {
        "id": "view-in-github",
        "colab_type": "text"
      },
      "source": [
        "<a href=\"https://colab.research.google.com/github/gregoryhamersky/NEUS642_20200204/blob/master/Auditory_Encoding_Model.ipynb\" target=\"_parent\"><img src=\"https://colab.research.google.com/assets/colab-badge.svg\" alt=\"Open In Colab\"/></a>"
      ]
    },
    {
      "cell_type": "markdown",
      "metadata": {
        "id": "GHSaUnfY5uF9",
        "colab_type": "text"
      },
      "source": [
        "# **Making an STRF**"
      ]
    },
    {
      "cell_type": "markdown",
      "metadata": {
        "id": "h9MLBXLPettu",
        "colab_type": "text"
      },
      "source": [
        "## **Introduction**\n",
        "When a neuron in the auditory cortex receives information about a sound that's passed through early auditory areas, how does that neuron transform and represent that sound? A spectro temporal receptive field (STRF) is a model that describes neural function as a filter that can be used to predict neural outputs given a stimulus. An STRF describes spectral and temporal aspects of a stimulus spectrogram that will lead to a stronger neural response.\n",
        "\n",
        "<br><img src=\"STRF.png\"/>\n",
        "\n",
        "The data we will be looking at today is from single-unit recordings from the primary auditory cortex of *Mustela putorius*, or ferrets.\n",
        "\n",
        "<br><img src=\"Ferret.PNG\"/>\n",
        "*Above: A ferret bathing in the wild*\n",
        "\n",
        "To stimulate neurons in A1, several TORCs (temporaly orthognal ripple combinations) are played. TORCs differ in phase from one another but are composed of the same total frequency and are noise-like stimuli constructed to sample spectro-temporal stimulus space efficiently. Response data comes in the form of a peri-stimulus time histogram (PSTH) or a histogram of the time when neurons fire.\n",
        "\n",
        "The objective of todays lesson is to take this data and transform it into a format whereby an STRF can be calculated. We will also plot an an easy to read and visually appealing STRF."
      ]
    },
    {
      "cell_type": "markdown",
      "metadata": {
        "id": "b1uiLtNnqMli",
        "colab_type": "text"
      },
      "source": [
        "## **Objectives**\n",
        "The goal of this exercise is to take stimulus and response data and generate a model of auditory encoding.\n",
        "\n",
        "\n",
        "\n",
        "### **Used in today's class**\n",
        "\n",
        "### Dictionary methods\n",
        "* `dict.keys()` - returns list of available keys\n",
        "* `dict.values()` - returns list of available values\n",
        "* `dict.fromkeys()` - takes two parameters, (sequence[,value]) where setting the value of each element of the dictionary is optional.It returns a new dictionary with the sequence of elements as the keys;\n",
        "* `dict.items()` - returns list of key,value tuple pairs\n",
        "\n",
        "### Numpy\n",
        "* `np.swapaxes()`- interchanges two axes of an array\n",
        "* `np.stack()`- joins a sequence of arrays along a new axis\n",
        "* `np.unique()`- finds the unique elements of an array\n",
        "* `np.flip()`- flips the order of elements in an array along the axis\n",
        "* `np.max()`- compares two arrays and returns a new array with the element maximum\n",
        "* `np.roll()`- rolls array down along an axis, any elements that roll down the end of the axis end up at the beginning of the axis\n",
        "* `np.concatenate()`- join arrays along a given axis\n",
        "* `np.expand_dims()`- expand a new array by inserting a new axis at a specificed position\n",
        "* `np.dot()`- When both arrays are 2D (which they are here) it is the dot product of two arrays through matrix multiplication\n",
        "* `np.linalg.pinv()`- finds the generalized inverse of a matrix\n",
        "* `np.reshape()`- gives a new shape to the array without effecting the data\n",
        "* `np.log2()`- base-2 logarithm\n",
        "* `np.mean()`- returns the mean of a specified axis\n",
        "\n",
        "### Plotting\n",
        "* `plt.imshow()` - display an image\n",
        "* `plt.yticks()`- list of positions where ticks should be added and optional labels\n",
        "* `plt.ylabel()`- text for the y axis\n",
        "* `plt.xlabel()`- text for the x axis\n",
        "* `plt.title()`- text for the title\n",
        "\n",
        "### Other\n",
        "* `append()`- adds a single item to the end of the list\n",
        "* `enumerate()`- adds counter to iterable in a `for` loop\n",
        "* `format()`- allows string value formatting and substitutions, also lets you positionally concatenate in elements\n",
        "\n",
        "\n",
        "\n",
        "\n",
        "\n",
        "\n"
      ]
    },
    {
      "cell_type": "markdown",
      "metadata": {
        "id": "mLGWmYKOgiY2",
        "colab_type": "text"
      },
      "source": [
        "## **Loading the Data**\n",
        "Let's import some modules we'll be using throughout the lesson. First we'll import our olds friends `Numpy` and `matplotlib` then some newer ones like `pickle`. Also, we're going to import a few pre-made functions from code we already wrote to save some time, we'll give you a heads up when you need to call them and what they do when the time comes. (I'm also slipping `fs=1000` in there, that's just our sampling frequency and we'll need it for some things down the road)"
      ]
    },
    {
      "cell_type": "code",
      "metadata": {
        "id": "6v2lQqPLhXiD",
        "colab_type": "code",
        "colab": {}
      },
      "source": [
        "import numpy as np\n",
        "import matplotlib.pyplot as plt\n",
        "import pickle\n",
        "from pathlib import Path\n",
        "%matplotlib inline\n",
        "fs=1000\n",
        "from torc_functions_class import *"
      ],
      "execution_count": 0,
      "outputs": []
    },
    {
      "cell_type": "markdown",
      "metadata": {
        "colab_type": "text",
        "id": "Nxw_9I57fsnW"
      },
      "source": [
        "Normally when trying to analyze auditory stimulus and response data we would have to load recording files in a way where we must manually extract the data by calling on functions that search segments of the data in time called epochs and select only those where a stimulus is being played. Today we will be using data where we have pickled the stimulus and response data for you, which is also going to be a fun exercise. The data you will get is two dictionaries, basically the stimulus data which will be called exptparams and the response data r.\n",
        "\n",
        "## **What the heck are pickles?**\n",
        "\n",
        "<br><img src=\"PortlandPicklesLogo.png\"/>\n",
        "\n",
        "Pickling allows for python objects, such as a list or dictionary to be converted to binary. Unpickling brings it back.\n",
        "This can be useful for several reasons:\n",
        "\n",
        "1) saving a program's state data to disk so that it can carry on where it left off when restarted (persistence)\n",
        "\n",
        "2) sending python data over a TCP connection in a multi-core or distributed system (marshalling)\n",
        "\n",
        "3) storing python objects in a database\n",
        "\n",
        "4) converting an arbitrary python object to a string so that it can be used as a dictionary key (e.g. for caching & memoization).\n",
        "(https://pythontips.com/2013/08/02/what-is-pickle-in-python/)\n",
        "\n",
        "Side note: Pickles can easily be hacked and have malicious code in there that will run when you de-pickle it. So make sure you trust any pickles that are sent to you. You can of course trust the pickles that we had you download before class... We wouldn't put malicious code in that sent us your mother's maiden name, the name of your first pet, and the last four of your SNN. That's ridiculous. Why would you even ask that?\n",
        "\n",
        "\n",
        "So, let's unpickle! First, we need to find our pickles though. Let's do some pathfinding to locate them (this part will look familiar). They're in the notebook that you opened to get here, so you will just need to type `Pickle` into the prompt."
      ]
    },
    {
      "cell_type": "code",
      "metadata": {
        "id": "QzA3KMZ3k070",
        "colab_type": "code",
        "colab": {}
      },
      "source": [
        "folder_path = input('Enter the path to the folder: ')"
      ],
      "execution_count": 0,
      "outputs": []
    },
    {
      "cell_type": "markdown",
      "metadata": {
        "id": "LGi-3TTvlPwu",
        "colab_type": "text"
      },
      "source": [
        "Okay, you now have a variable that is the path to the pickles, let's make a list of all the files within the folder we found."
      ]
    },
    {
      "cell_type": "code",
      "metadata": {
        "id": "dKHSp5vslg3q",
        "colab_type": "code",
        "colab": {}
      },
      "source": [
        "folder_list = list(Path(folder_path).iterdir())\n",
        "folder_list"
      ],
      "execution_count": 0,
      "outputs": []
    },
    {
      "cell_type": "markdown",
      "metadata": {
        "id": "svEuG-ecoqW3",
        "colab_type": "text"
      },
      "source": [
        "So we only have two files here, but imagine you had more, let's say 20 pickles and 10 pictures of your dog. Right now, we don't care about your dog so let's take only the `.pkl` files."
      ]
    },
    {
      "cell_type": "code",
      "metadata": {
        "id": "yRx0lcEIllz6",
        "colab_type": "code",
        "colab": {}
      },
      "source": [
        "pickle_list = [fn for fn in folder_list if fn.suffix == '.pkl']\n",
        "pickle_list"
      ],
      "execution_count": 0,
      "outputs": []
    },
    {
      "cell_type": "markdown",
      "metadata": {
        "id": "sxJUd1POs-0P",
        "colab_type": "text"
      },
      "source": [
        "Now, `pickle_list` is a list that contains the filenames we will want to import, right now it's two, but let's use a `for` loop so that no matter how many files we have in our list, we can load them all into a single dictionary.\n",
        "\n",
        "`for` loops have three basic components, the variable, the iterable, and the statements.  The formatting is normally as follows:\n",
        "\n",
        "```\n",
        "for <variable> in <iterable>:\n",
        "   <statement(s)>\n",
        "```\n",
        "\n",
        " There are many flavors of `for` loops that we will be working with. The above example is the vanilla flavor. It's delicious, it is a classic, but it could definitely have more flare."
      ]
    },
    {
      "cell_type": "markdown",
      "metadata": {
        "colab_type": "text",
        "id": "6enCGwmgf8NX"
      },
      "source": [
        "\n",
        "\n",
        "In this instance, first we're going to make an empty dictionary which our `for` loop will populate. The next line will loop, saying that for each file in the list, it will temporarily assign it to the variable `pick`.\n",
        "The third line says to open that file to a variable which gets passed to the `load` method. \n",
        "\n",
        "```\n",
        "pickle_dict = dict()\n",
        "for pick in folder_list:\n",
        "    pkl_file = open(pick, 'rb')\n",
        "```\n",
        "The final line has you assign the name of the pickle file (without the `.pkl` extension) as a key (more on that soon) that will have the value of the loaded pickle file."
      ]
    },
    {
      "cell_type": "code",
      "metadata": {
        "colab_type": "code",
        "id": "8pP2LEcEwJtB",
        "colab": {}
      },
      "source": [
        "pickle_dict = dict()\n",
        "for pick in folder_list:\n",
        "    with open(pick, 'rb') as pkl_file:\n",
        "        pickle_dict[pick.stem] = pickle.load(pkl_file)"
      ],
      "execution_count": 0,
      "outputs": []
    },
    {
      "cell_type": "markdown",
      "metadata": {
        "id": "4WptZE3g8INy",
        "colab_type": "text"
      },
      "source": [
        "Thank god we finally have all of that into a dictionary. For our next step we will now throw that dictionary in the garbage.\n",
        "\n",
        "You may ask yourself, \"But why? Why did we make a dictionary then?\"\n",
        "For only two pickles, honestly this is crazy over kill. But what if you were king of the pickles and had thousands of pickles?\n",
        "The `for` loop above will allow you to open all of them with just a few lines of code and the indexing of the dictionary in the cell below allows you to grab just a bit of our new dictionary that you need as variables."
      ]
    },
    {
      "cell_type": "code",
      "metadata": {
        "id": "fcOLMjQE8InA",
        "colab_type": "code",
        "colab": {}
      },
      "source": [
        "r = pickle_dict['r']\n",
        "exptparams = pickle_dict['exptparams']"
      ],
      "execution_count": 0,
      "outputs": []
    },
    {
      "cell_type": "markdown",
      "metadata": {
        "id": "y9oNfiMWv4OE",
        "colab_type": "text"
      },
      "source": [
        "## **Working with the Data**\n",
        "Cool, our pickles are now two dictionaries `r` and `exptparams`. Before we blindly charge ahead, let's get familiar with our dictionaries, starting with `r`, which contains the response data from the unit we recorded from. To help us get friendly with `r`, let's use some dictionary methods.\n",
        "\n",
        "The nicest one *(subjective)* to use is `.keys()`, which will display out the keys in the dictionary. I just used the word in the definition, but basically, a dictionary is an associative data type that matches a `key` and a `value` where the key is the unique index for a given value."
      ]
    },
    {
      "cell_type": "code",
      "metadata": {
        "id": "sQjCEShHv30G",
        "colab_type": "code",
        "colab": {}
      },
      "source": [
        "r.keys()"
      ],
      "execution_count": 0,
      "outputs": []
    },
    {
      "cell_type": "markdown",
      "metadata": {
        "id": "PexQBSf_xGKa",
        "colab_type": "text"
      },
      "source": [
        "That's a long list of strings that seems to have no meaning! But, let's pause to notice some things in the chaos, namely that we told you earlier `r` is our response data, so these keys must be response data organized into what stimuli (a TORC) it is responding to, so that's where `STIM_TORC_` comes from. \n",
        "\n",
        "Also, the only thing different is a number that seems to be counting up, this must be referring to how many different stimuli we generated responses from. We could go and count how many they are, but let's use the `len()` function instead to see how many TORC stimuli we have:"
      ]
    },
    {
      "cell_type": "code",
      "metadata": {
        "id": "lKLaa5HZxFwS",
        "colab_type": "code",
        "colab": {}
      },
      "source": [
        "len(r.keys())"
      ],
      "execution_count": 0,
      "outputs": []
    },
    {
      "cell_type": "markdown",
      "metadata": {
        "id": "IjsdO-XYxx_X",
        "colab_type": "text"
      },
      "source": [
        "We have 30 TORCs. Now you know a little bit more about the data you're working with from two super simple lines of code, you know what your dictionary contains and how many of them there are! Cool, but these are just names, what information is hiding in the dictionary? Let's find out. \n",
        "\n",
        "We could do this two ways, `dict.values()` will tell us the value associated with each key. I'll tell you, that will be tremendously long to look at in this case. Instead, let's index to look at a single TORC's response data and explore that one. \n",
        "\n",
        "First it's important to see what kind of data we're working with, for that we'll use the `type()` function (remember that we'll use dictionary indexing in the format of `dictionary['key']` to do that):"
      ]
    },
    {
      "cell_type": "code",
      "metadata": {
        "id": "93MfcKTntER9",
        "colab_type": "code",
        "colab": {}
      },
      "source": [
        "type(r['STIM_TORC_448_LIN_01_h501'])"
      ],
      "execution_count": 0,
      "outputs": []
    },
    {
      "cell_type": "markdown",
      "metadata": {
        "id": "8-OYJYuozIDe",
        "colab_type": "text"
      },
      "source": [
        "It's an array! What's something important to know about an array? You guessed it, it's its shape! We know how to do that with the `.shape` method:"
      ]
    },
    {
      "cell_type": "code",
      "metadata": {
        "id": "lxp41D4NzG2H",
        "colab_type": "code",
        "colab": {}
      },
      "source": [
        "r['STIM_TORC_448_LIN_01_h501'].shape"
      ],
      "execution_count": 0,
      "outputs": []
    },
    {
      "cell_type": "markdown",
      "metadata": {
        "id": "PxThxoo5zqQY",
        "colab_type": "text"
      },
      "source": [
        "It's a three-dimensional array. This is all good info, and I'll just tell you the first dimension is a count of repetitions of the stimuli and the last dimension is the length of the trial. We are going to get rid of the middle dimension in a second so don't worry about it."
      ]
    },
    {
      "cell_type": "markdown",
      "metadata": {
        "id": "86DoVuKqz7G1",
        "colab_type": "text"
      },
      "source": [
        "## **Exercise**\n",
        "So what do we have with `r`? We have response data from 30 TORC stimuli. It'd be nice if rather than a dictionary of the individual responses, we had a single object of all the response information that could be manipulated at once. Let's work on that, with `for` loops!\n",
        "\n",
        "You may be wondering, how do I turn a dictionary into a list into a new variable containing all the content, I'll start you off by creating an empty list for you:"
      ]
    },
    {
      "cell_type": "code",
      "metadata": {
        "id": "a9-PxT0uzTR6",
        "colab_type": "code",
        "colab": {}
      },
      "source": [
        "torc_list = list()"
      ],
      "execution_count": 0,
      "outputs": []
    },
    {
      "cell_type": "markdown",
      "metadata": {
        "id": "aERJ8-k70zyw",
        "colab_type": "text"
      },
      "source": [
        "`for` loop time!\n",
        "\n",
        " We're interested in the arrays in the dictionary, so how should we initiate our loop? Let's use `dict.values()` and call the variable `val`. In any given iteration of the loop, you've now loaded a `(10,1,1450)` array. Now we're going to take care of that extra dimension using the `np.squeeze()` function which will squeeze extra dimensions away, giving us a new array of dimensions `(10,1450)`! I'll tell you next that we don't want the array to look like this, we want time to be in the [0] dimension and repetitions in the [1] dimension. How do we *swap* the *axes* of our array? `np.swapaxes()` is how. Swapaxes takes three arguments, the array you're swapping, and then the axes over which you are swapping, of which we only have two, [0], and [1]. Assign this to a new variable `fval`.\n",
        "\n",
        "Finally, let's use our `list.append()` method to add this new array `fval` we just made to the `torc_list` dictionary.\n",
        "\n",
        "This will all be three lines of code, give nesting the functions `np.swapaxes` and `np.squeeze` a try so your code will look like `new_variable = np.swapaxes(np.squeeze(for_loop_variable),dim1,dim2)`. Notice how now the output of the squeeze, an array itself, is now already placed as the first argument of `np.swapaxes` because Python will work inside to out, pretty nifty! Give it a go:\n"
      ]
    },
    {
      "cell_type": "code",
      "metadata": {
        "id": "HM-_xnE50y1p",
        "colab_type": "code",
        "colab": {}
      },
      "source": [
        "# Answer\n",
        "<for val in r.values():\n",
        "    fval = np.swapaxes(np.squeeze(val), 0, 1)\n",
        "    torc_list.append(fval)>"
      ],
      "execution_count": 0,
      "outputs": []
    },
    {
      "cell_type": "markdown",
      "metadata": {
        "id": "ogb89fab2q1o",
        "colab_type": "text"
      },
      "source": [
        "Before we move on let's get in the habit of checking ourselves; let's make sure all our data made it to the list by checking the length of our list again (it should be 30!)."
      ]
    },
    {
      "cell_type": "code",
      "metadata": {
        "id": "1wNlV-l42p9m",
        "colab_type": "code",
        "colab": {}
      },
      "source": [
        "len(torc_list)"
      ],
      "execution_count": 0,
      "outputs": []
    },
    {
      "cell_type": "markdown",
      "metadata": {
        "id": "1KAfQxNS3Toe",
        "colab_type": "text"
      },
      "source": [
        "Yay. Next I said we want to take this list and turn it into a single array. This is cool because right now you have a list of 30 arrays of size `(1450,10)` but we want to add a third dimension that will stack (big ol' hint) all the arrays in the list.\n",
        "\n",
        "There is a small chance that makes total sense right off the bat, and if not, that's cool, the way I would think about going from a 2D array to a 3D array is pretty literal. Right now we have 30 2D playing cards of equal size (1450,10) in front of us. Instead, let's stack them into a deck and the new dimension is just how many cards we have, the height of the stack (30).\n",
        "\n",
        "Look at the documentation for `np.stack()` and see if you can figure out how to take our `torc_list` and literally stack the items of the list along a new dimension `[2]`, make the new variable called `stacked`, please."
      ]
    },
    {
      "cell_type": "code",
      "metadata": {
        "id": "8FyREfq23Rsm",
        "colab_type": "code",
        "colab": {}
      },
      "source": [
        "# Answer\n",
        "<stacked = np.stack(torc_list, axis=2)>"
      ],
      "execution_count": 0,
      "outputs": []
    },
    {
      "cell_type": "markdown",
      "metadata": {
        "id": "5Ps02bwk5l_I",
        "colab_type": "text"
      },
      "source": [
        "Check the shape!"
      ]
    },
    {
      "cell_type": "code",
      "metadata": {
        "id": "3MMHA-a15p2G",
        "colab_type": "code",
        "colab": {}
      },
      "source": [
        "stacked.shape"
      ],
      "execution_count": 0,
      "outputs": []
    },
    {
      "cell_type": "markdown",
      "metadata": {
        "id": "ovMf1pyv4-j2",
        "colab_type": "text"
      },
      "source": [
        "Oh yeah. \n",
        "\n",
        "I'm going to tell you another thing: All 1450ms in that dimension are not important, each recorded trial has both a period of silence before and after the presentation of the TORC stimulus, or a period where the response data is unimportant. We need to find out how long that pre- and post-stimulus silence is so we can slice it off!\n",
        "\n",
        "To do that, let's check out our other dictionary, `exptparams`. We're going to first index it for you to some relevant information, so here goes:"
      ]
    },
    {
      "cell_type": "code",
      "metadata": {
        "id": "nYxoQAr045ae",
        "colab_type": "code",
        "colab": {}
      },
      "source": [
        "TorcObject = exptparams[\"TrialObject\"][1][\"ReferenceHandle\"][1]"
      ],
      "execution_count": 0,
      "outputs": []
    },
    {
      "cell_type": "markdown",
      "metadata": {
        "id": "eeWSeMDt8K_9",
        "colab_type": "text"
      },
      "source": [
        "Cool, let's inspect TorcObject, what's its type?"
      ]
    },
    {
      "cell_type": "code",
      "metadata": {
        "id": "chAGEEuT66cz",
        "colab_type": "code",
        "colab": {}
      },
      "source": [
        "type(TorcObject)"
      ],
      "execution_count": 0,
      "outputs": []
    },
    {
      "cell_type": "markdown",
      "metadata": {
        "id": "6ohoUkLbgYL_",
        "colab_type": "text"
      },
      "source": [
        "## **Getting to know a new dictionary**\n",
        "\n",
        "### **Exercise**"
      ]
    },
    {
      "cell_type": "markdown",
      "metadata": {
        "id": "iRjeRrQh8RHr",
        "colab_type": "text"
      },
      "source": [
        "`TorcObject` is a dictionary. Now it's time for **you** to get to know your dictionary called `TorcObject`. What method of a dict did we use earlier to do this? What are we looking for? Maybe something in the dictionary holds the *key* (hint)."
      ]
    },
    {
      "cell_type": "code",
      "metadata": {
        "id": "gPdMFEk48Pzs",
        "colab_type": "code",
        "colab": {}
      },
      "source": [
        "# Answer\n",
        "<TorcObject.keys()>"
      ],
      "execution_count": 0,
      "outputs": []
    },
    {
      "cell_type": "markdown",
      "metadata": {
        "id": "maPCHrXC9Krs",
        "colab_type": "text"
      },
      "source": [
        "I spy some useful keys in there! Let's get 'em!\n",
        "\n",
        "Make a new variable called `PreStimbin` and `PostStimbin` and set each to the respective `TorcObject` index. For later's sake though, please multiply the index by our variable from earlier `fs` to get our answer in ms and wrap the whole code inside the `int()` function so we can use that number as an integer number later on.\n",
        "Your code should look like `PreStimbin = int(dictionary[index] * fs)`"
      ]
    },
    {
      "cell_type": "code",
      "metadata": {
        "id": "NWrxhTZT8VuN",
        "colab_type": "code",
        "colab": {}
      },
      "source": [
        "# Answer\n",
        "<PreStimbin = int(TorcObject['PreStimSilence'] * fs)\n",
        "PostStimbin = int(TorcObject['PostStimSilence'] * fs)>"
      ],
      "execution_count": 0,
      "outputs": []
    },
    {
      "cell_type": "markdown",
      "metadata": {
        "id": "ONVwgh0doHea",
        "colab_type": "text"
      },
      "source": [
        "Let's check out how many ms of the total 1450ms each of these silences is:"
      ]
    },
    {
      "cell_type": "code",
      "metadata": {
        "id": "iXlv70Rrngrb",
        "colab_type": "code",
        "colab": {}
      },
      "source": [
        "PreStimbin"
      ],
      "execution_count": 0,
      "outputs": []
    },
    {
      "cell_type": "code",
      "metadata": {
        "id": "aqE5HiAeoMJa",
        "colab_type": "code",
        "colab": {}
      },
      "source": [
        "PostStimbin"
      ],
      "execution_count": 0,
      "outputs": []
    },
    {
      "cell_type": "markdown",
      "metadata": {
        "id": "hPaip00aoSLi",
        "colab_type": "text"
      },
      "source": [
        "So we have 350ms we need to remove from the front of the 1450ms and 350ms from the end. Quick math let's us know we want a slice of the array that contains only the central 750ms, and you've done this before, slicing arrays!\n",
        "\n",
        "*Think about how to do this: what dimension do we want to slice along? Which dimensions should stay the same? How do I indicate I want to take a slice from the end of the array? You've got it*\n",
        "\n",
        "Let's not make a new variable for `stacked` when we slice it but update `stacked` simply by setting this new sliced array equal to `stacked`."
      ]
    },
    {
      "cell_type": "code",
      "metadata": {
        "id": "LOle2oDloRdq",
        "colab_type": "code",
        "colab": {}
      },
      "source": [
        "#Answer\n",
        "<stacked = stacked[PreStimbin:-PostStimbin,:,:]>"
      ],
      "execution_count": 0,
      "outputs": []
    },
    {
      "cell_type": "markdown",
      "metadata": {
        "id": "gk8e4MgfqBQM",
        "colab_type": "text"
      },
      "source": [
        "Did it work?"
      ]
    },
    {
      "cell_type": "code",
      "metadata": {
        "id": "QcmcvY0ko-Gj",
        "colab_type": "code",
        "colab": {}
      },
      "source": [
        "stacked.shape"
      ],
      "execution_count": 0,
      "outputs": []
    },
    {
      "cell_type": "markdown",
      "metadata": {
        "id": "bclN-GEjqEH5",
        "colab_type": "text"
      },
      "source": [
        "Booyah!\n",
        "\n",
        "Our response data is looking good now! You've got a single array that contains information about the neuron's response to 30 different TORC stimuli, repeated 10 times, with the important time window of 750ms where the stimulus was on, great!\n",
        "\n",
        "Now let's work on getting on stimulus data in order."
      ]
    },
    {
      "cell_type": "markdown",
      "metadata": {
        "id": "EQkmBoc-rEvR",
        "colab_type": "text"
      },
      "source": [
        "## **Working with Stimulus Data**"
      ]
    },
    {
      "cell_type": "markdown",
      "metadata": {
        "id": "uvf_FeTprTCL",
        "colab_type": "text"
      },
      "source": [
        "Now we need to assemble what our stimulus looks like. We'll find that buried in the dictionary we created earlier `TorcObject`, so let's start digging.\n",
        "\n",
        "Inside `TorcObject` lives all the information about how each TORC stimuli is constructed. We want all of that to be, you guessed it, a dictionary that we're going to call `TorcParams`.\n",
        "\n",
        "Let's make that dictionary, but instead of starting with an empty dictionary, let's create it with keys that are the 30 unique names of the TORCs. How do we do that? A new dictionary method called `dict.fromkeys()`, which takes items in a sequence and assigns them to keys. If you're eagle-eyed when we were looking at `TorcObject`, one of it's keys was `Names`, so I'm going to take that index for you below and assign it to be a new list called `TorcNames` which you will then call in `.fromkeys()` to populate the new dictionary you'll call `TorcParams`."
      ]
    },
    {
      "cell_type": "code",
      "metadata": {
        "id": "CEGCHfDkpEoB",
        "colab_type": "code",
        "colab": {}
      },
      "source": [
        "TorcNames = TorcObject['Names']\n",
        "# Answer\n",
        "<TorcParams = dict.fromkeys(TorcNames)>"
      ],
      "execution_count": 0,
      "outputs": []
    },
    {
      "cell_type": "code",
      "metadata": {
        "id": "GkANqeQjpFvr",
        "colab_type": "code",
        "colab": {}
      },
      "source": [
        "TorcParams.keys()"
      ],
      "execution_count": 0,
      "outputs": []
    },
    {
      "cell_type": "markdown",
      "metadata": {
        "id": "UK5L0Akm0uFh",
        "colab_type": "text"
      },
      "source": [
        "Time `for` another loop! This `for` loop is a much spicier flavor than the previous ones. Think a mango tajin sorbet. Yum. \n",
        "\n",
        "In this one we will name two variables, `torc_idx` which will be an integer, and `torc` which will be a string. We can name both of these variables and apply them to the same interable all in one line! \n",
        "\n",
        "We will be doing something special to these interables though. We will be applying a built in Python method called `enumerate()`. Enumerate will keep count of the iterations for us. This will be useful for our statement of this loop. Our interable that we will be applying this method to will be `TorcNames`\n",
        "\n",
        "For our statement of this loop, we will first index `torc` from `TorcParams`. Then we will tell it that this index is equivilent to indexing out `\"Params\"` from `TorcObject` to the second position of `[torc_idx + 1]`.  Go ahead and try writing this out!"
      ]
    },
    {
      "cell_type": "code",
      "metadata": {
        "id": "4OXG8KLe6Mi_",
        "colab_type": "code",
        "colab": {}
      },
      "source": [
        "#Answer\n",
        "<for torc_idx, torc in enumerate(TorcNames):\n",
        "    TorcParams[torc] = TorcObject[\"Params\"][torc_idx + 1]>"
      ],
      "execution_count": 0,
      "outputs": []
    },
    {
      "cell_type": "markdown",
      "metadata": {
        "id": "o2Tn4XA43-yS",
        "colab_type": "text"
      },
      "source": [
        "Worked!\n",
        "\n",
        "## **Populating your own dictionary**\n",
        "\n",
        "Next, we need to head into the parameters of the TORCs, and I'm specifically interested in the spectral (frequency) range of the TORCs, but where do we find that information?\n",
        "\n",
        "### **Exercise**\n",
        "\n",
        "I'll bet you that we can find it in our new `TorcParams` dictionary. Let's index into our first TORC and check out what parameters are in there with our new friend `.keys()`\n"
      ]
    },
    {
      "cell_type": "code",
      "metadata": {
        "id": "vfFbgkrA1SHQ",
        "colab_type": "code",
        "colab": {}
      },
      "source": [
        "TorcParams['TORC_448_LIN_01_h501'].keys()"
      ],
      "execution_count": 0,
      "outputs": []
    },
    {
      "cell_type": "markdown",
      "metadata": {
        "id": "f_jQU8GD8EXT",
        "colab_type": "text"
      },
      "source": [
        "There it is, `HighestFrequency` and `LowestFrequency`, now let's make them a variable that we can call later on!\n",
        "\n",
        "Call the variables `highest_frequency` and `lowest_frequency`."
      ]
    },
    {
      "cell_type": "code",
      "metadata": {
        "id": "YNxTcAjs39F5",
        "colab_type": "code",
        "colab": {}
      },
      "source": [
        "# Asnwer\n",
        "<highest_frequency = TorcParams['TORC_448_LIN_01_h501']['HighestFrequency']\n",
        "lowest_frequency = TorcParams['TORC_448_LIN_01_h501']['LowestFrequency']>"
      ],
      "execution_count": 0,
      "outputs": []
    },
    {
      "cell_type": "markdown",
      "metadata": {
        "id": "Qvxv31CL9dGN",
        "colab_type": "text"
      },
      "source": [
        "Now that we have variables assigned to the maximum and minimum frequencies, we should figure out how many octaves that spans.\n",
        "\n",
        "*Refresher on octaves:* Octave is a **logarithmic** unit describing the ratios between frequencies, where an octave is a doubling of frequency.\n",
        "\n",
        "So finding octaves isn't as simple as dividing our highest frequency by the lowest, darn. Good thing we have `Numpy` to save the day, it has a handy function for logarithms, in this case we want to use `np.log2()`. See if you can use this to figure out how many octaves our stimulus spans, assign this to the variable `octaves`. Please wrap your code for this in the `int()` function to keep our answers as the integer type!"
      ]
    },
    {
      "cell_type": "code",
      "metadata": {
        "id": "ugioYvVL87Rc",
        "colab_type": "code",
        "colab": {}
      },
      "source": [
        "# Answer\n",
        "<octaves = int(np.log2(highest_frequency/lowest_frequency))\n",
        "octaves>"
      ],
      "execution_count": 0,
      "outputs": []
    },
    {
      "cell_type": "markdown",
      "metadata": {
        "id": "Q0g20DbM_Va2",
        "colab_type": "text"
      },
      "source": [
        "Got it?\n",
        "\n",
        "You may be feeling like it's been five or so lines and we haven't made a new dictionary. **Do not worry**, we're about to make a new one and manually populate it!\n",
        "\n",
        "This dictionary will be a handy reference that will contain a lot of general parameters for TORCs, as such it'll be called `Params`. We'll show you how to populate it here using our frequency variables we just created and then later on you're going to add some new variables to the dictionary for yourself.\n",
        "\n",
        "I'm using `dict.items()` at the bottom to display the key and value pairs created in the lines above"
      ]
    },
    {
      "cell_type": "code",
      "metadata": {
        "id": "72NJyjc8-wIM",
        "colab_type": "code",
        "colab": {}
      },
      "source": [
        "Params = dict()\n",
        "Params['lfreq'] = lowest_frequency\n",
        "Params['hfreq'] = highest_frequency\n",
        "Params['octaves'] = octaves\n",
        "Params.items()"
      ],
      "execution_count": 0,
      "outputs": []
    },
    {
      "cell_type": "markdown",
      "metadata": {
        "id": "N5xQh1flBtJw",
        "colab_type": "text"
      },
      "source": [
        "Next up is some math. But don't worry, you're not going to do it, and we're not even going to bother you with a long paragraph about what's happening, but we have to do it anyway. Just know that when you run the cell below, a lot is happening and out of it we're going to get some more important parameters to be added to our `Params` dictionary."
      ]
    },
    {
      "cell_type": "code",
      "metadata": {
        "id": "mt4gu_ZjBpYs",
        "colab_type": "code",
        "colab": {}
      },
      "source": [
        "all_freqs = list()\n",
        "all_velos = list()\n",
        "for torc in TorcNames:\n",
        "    freqs = TorcParams[torc]['Scales']\n",
        "    velos = TorcParams[torc]['Rates']\n",
        "    all_freqs.append(freqs)\n",
        "    all_velos.append(velos)\n",
        "frqs = np.unique(np.concatenate(all_freqs))  # Smoosh to one array and output unique elements\n",
        "vels = np.unique(np.concatenate(all_velos))\n",
        "W = vels\n",
        "T = int(np.round(fs / min(np.abs(np.diff(np.unique([x for x in W if x != 0]))))))\n",
        "Ompos = [x for x in frqs if x >= 0]\n",
        "Omnegzero = np.flip([x for x in frqs if x <= 0], axis=0)\n",
        "Omega = np.swapaxes(np.stack((Ompos, Omnegzero)), 0, 1)\n",
        "basep = int(np.round(fs / min(np.abs(np.diff(np.unique([x for x in W if x != 0]))))))\n",
        "maxvel = np.max(np.abs(W))\n",
        "maxfrq = np.max(np.abs(Omega))\n",
        "saf = int(np.ceil(maxvel * 2 + 1000 / basep))\n",
        "numcomp = int(np.ceil(maxfrq * 2 * octaves + 1))\n",
        "sffact = saf / 1000\n",
        "leng = int(np.round(T * sffact))\n",
        "RefDuration = TorcObject['Duration']\n",
        "mf = int(fs / 1000)\n",
        "stdur = int(RefDuration * 1000)\n",
        "mod_depth = 0.9\n",
        "xSize = int(np.round(10 * numcomp / octaves))\n",
        "tSize = int(10 * saf * basep / 1000)\n",
        "plot_params = dict()\n",
        "plot_params['smooth'] = [100,250]\n",
        "plot_params['labels'] = list([0,20,40,60,80,100])\n",
        "plot_params['ticks'] = list([250,500,1000,2000,4000,8000])"
      ],
      "execution_count": 0,
      "outputs": []
    },
    {
      "cell_type": "markdown",
      "metadata": {
        "id": "gdjkNFyGLwOp",
        "colab_type": "text"
      },
      "source": [
        "### **Exercise**"
      ]
    },
    {
      "cell_type": "markdown",
      "metadata": {
        "id": "9liys4uuCnrx",
        "colab_type": "text"
      },
      "source": [
        "Now that that's over. I'll tell you the important variables that have been defined up there: `T`, `numcomp`, `basep`, `leng`, `stdur`, `mf`, `xSize`, `tSize`, and 'mod_depth'. \n",
        "\n",
        "Your job now is to, just as we did for you above, add those variables to your `Params` dictionary. When deciding on a name for the keys, make sure in this case you call the key the exact name of the variable you're assigning, for instance `dict['variable'] = variable`."
      ]
    },
    {
      "cell_type": "code",
      "metadata": {
        "id": "D90znW3IBr2p",
        "colab_type": "code",
        "colab": {}
      },
      "source": [
        "# Answer\n",
        "<Params['T'] = T\n",
        "Params['numcomp'] = numcomp\n",
        "Params['basep'] = basep\n",
        "Params['leng'] = leng\n",
        "Params['stdur'] = stdur\n",
        "Params['mf'] = mf\n",
        "Params['xSize'] = xSize\n",
        "Params['tSize'] = tSize\n",
        "Params['mod_depth'] = mod_depth\n",
        "Params.items()>"
      ],
      "execution_count": 0,
      "outputs": []
    },
    {
      "cell_type": "markdown",
      "metadata": {
        "id": "jShEF_8HDgDQ",
        "colab_type": "text"
      },
      "source": [
        "Right on. Now you've got a great dictionary of some general parameters that you're going to pass to a lot of functions down the road. The advantage of doing this rather than having each function accept only the variables it will need from the dictionary is that you can then just pass this dictionary and the function will find and call the relevant variables.\n",
        "\n",
        "Next, we need you to finally assemble the TORC stimuli from the parameters you saved into `TorcParams`! To do this (in a mere three lines of code, broken down below) you're going to have to:\n",
        "\n",
        "**1.** Create a new, empty dictionary called `TorcValues`.\n",
        "\n",
        "**2.** Begin a `for` loop that uses `TorcParams.items()`, which you may have seen above calls both the key and corresponding value through the dictionary. As a result, this for loop will have two variables separated by commas, let's call those `key` and `value`, in that order.\n",
        "\n",
        "**3.** Next, if you remember earlier we imported a bunch of functions from another document, one of them was called `torcmaker`, in the first cell below, run that and check out the documentation for `torcmaker`. It takes two arguments, the torc `value` and our old friend `Params`, our dictionary! That info should help you in calling the function. Notice it also returns a variable, documented as 'the torc itself'. With that in mind assign the output of the function equal to our new `TorcValues` dictionary from line 1, indexing to the `key` that the for loop is currently on, which will associate the name of the torc with it's calculated torc!"
      ]
    },
    {
      "cell_type": "code",
      "metadata": {
        "id": "kFAr31beDdvI",
        "colab_type": "code",
        "colab": {}
      },
      "source": [
        "torcmaker?\n"
      ],
      "execution_count": 0,
      "outputs": []
    },
    {
      "cell_type": "code",
      "metadata": {
        "id": "N4e3TGGEKj3I",
        "colab_type": "code",
        "colab": {}
      },
      "source": [
        "# Answer\n",
        "<TorcValues = dict()\n",
        "for key, value in TorcParams.items():\n",
        "    TorcValues[key] = torcmaker(value, Params)>"
      ],
      "execution_count": 0,
      "outputs": []
    },
    {
      "cell_type": "markdown",
      "metadata": {
        "id": "fJBt3IL1LjE7",
        "colab_type": "text"
      },
      "source": [
        "## **Checking out our TORCs**"
      ]
    },
    {
      "cell_type": "markdown",
      "metadata": {
        "id": "y6z2u9i2MgDB",
        "colab_type": "text"
      },
      "source": [
        "You made it. You have a dictionary with all your stimuli organized and ready to use. First, let's get a visual on these TORCs we've been talking so much about.\n",
        "\n",
        "To do that, we'll try a new function in `pyplot` called `imshow()`. This one is a favorite for me over `plot()`, which we've used many times before, because it'll just really simply show me my array. Note I've added an additional argument to the code below specifying the origin should be in the bottom, this way the y-axis reads from bottom to top.\n",
        "\n",
        "One final thing, I threw a `.shape` on our arbitrary TORC we are visualizing just so we can know how big these TORCs we're going to be dealing with are."
      ]
    },
    {
      "cell_type": "code",
      "metadata": {
        "id": "X49mBm6ZLiQW",
        "colab_type": "code",
        "colab": {}
      },
      "source": [
        "plt.imshow(TorcValues['TORC_448_LIN_10_h501'],origin='lower')\n",
        "TorcValues['TORC_448_LIN_10_h501'].shape"
      ],
      "execution_count": 0,
      "outputs": []
    },
    {
      "cell_type": "markdown",
      "metadata": {
        "id": "FW9fzqk3NaGx",
        "colab_type": "text"
      },
      "source": [
        "There it is! But something wrong, it is not very appealing to look at, is it?\n",
        "\n",
        "Let's talk about what's happening in this plot for a second. Here you are visualizing the spectrogram of the TORC, with the x-axis describing it in time and the y-axis being frequencies. The colored cubes represent the power the sound has at that frequency band at that point in time. I'm *sure* you can now see how that sound we played you earlier totally looks like this, right?\n",
        "\n"
      ]
    },
    {
      "cell_type": "markdown",
      "metadata": {
        "id": "nkpkRc07QTph",
        "colab_type": "text"
      },
      "source": [
        "## **Checking out our TORCs *AND* making them look nice!**"
      ]
    },
    {
      "cell_type": "markdown",
      "metadata": {
        "id": "2NJeNn5pQp1q",
        "colab_type": "text"
      },
      "source": [
        "Now that you've seen a blurry glimpse of a TORC, let's have some fun while we spruce them up a little too. \n",
        "\n",
        "We've got a lot of TORCs we potentially could look at, do we really want to have to run a brick of code each time we want to see a new one, or wouldn't it be *more* fun to make a function that takes any number you give it and shows you that torc?\n",
        "\n",
        "Take a look at what we've given below. We've defined `plot_torc` as taking two arguments, which will be our dictionary `TorcValues` which contains all of our arrays that are the TORCs paired with the name of the TORC. There is also a number, which will specify which TORC (out of the available 30) you would like to visualize. Next, we've defined a few variables for your convenience later.\n",
        "\n",
        "\n",
        "Let's take a short interlude to talk about `if` statments. You won't be writing any right now but the logic is kind of fun. `if` statements are great to handle things that could break your function. To this end, you may have been snarky and already thought, \"they said pass a number out of 30, I'm going to put 31.. hahaha.\" **If** you thought that, an `if` statement is going to save the day. \n",
        "\n",
        "Notice in the first `if` we say if the inputted number is greater than the number of items in TorcValues (or zero because that TORC doesn't exist either) you'll get kicked out of the function (return) and the result will be an error message. Took care of that problem!\n",
        "\n",
        "See if you can imagine what the next `if` is for.\n",
        "\n",
        "Next, we want the TORC to be less pixelated, that's not nice to look at. That line just calls a little function that interpolates the data given, which means it estimates additional data points to give the data a smoother look. Imagine a sine wave that has 5 points versus 100 points, which is smoother?\n",
        "\n",
        "Anyway, your job now is to use `imshow()` to show us `torcplot`. Take a look at additional arguments that `imshow()` takes, you're going to want to, as above, use the `origin` argument, as well as set the `aspect` argument equal to `auto`.\n",
        "\n",
        "Now add some labels. The x-axis is displaying time and the y-axis frequency in Hz. But there's a problem with that, you have to tell it to display your frequency labels on the yticks, for this call `plt.yticks()` and check out what arguments it takes. This is where you will want to call your variables earlier in the function `ticks` and `labels`.\n",
        "\n",
        "Finally, set a title. What would you want to display as a title? Maybe just TORC? But what if you wanted to label it with the specific TORC name you're looking at, do you already have a variable defined in the function that is a TORC name string? (you do!)\n",
        "\n",
        "### **Exercise**\n"
      ]
    },
    {
      "cell_type": "code",
      "metadata": {
        "id": "HL2S2wv7MOjb",
        "colab_type": "code",
        "colab": {}
      },
      "source": [
        "def plot_torc(torcs,number):\n",
        "    smooth = [100,250]\n",
        "    ticks = list([0,20,40,60,80,100])\n",
        "    labels = list([250,500,1000,2000,4000,8000])\n",
        "    if number > len(TorcValues) or number == 0:\n",
        "        print(\"That's not a real TORC!\")\n",
        "        return\n",
        "    if number < 10:\n",
        "        torc = 'TORC_448_LIN_0{}_h501'.format(number)\n",
        "    else:\n",
        "        torc = 'TORC_448_LIN_{}_h501'.format(number)\n",
        "    torcplot = interpft(interpft(torcs[torc], smooth[0], 0), smooth[1], 1)\n",
        "#Answer\n",
        "    <plt.imshow(torcplot,aspect='auto',origin='lower')\n",
        "    plt.yticks(ticks=ticks,labels=labels)\n",
        "    plt.ylabel('Frequency (Hz)')\n",
        "    plt.xlabel('Time')\n",
        "    plt.title(torc,fontweight='bold')>"
      ],
      "execution_count": 0,
      "outputs": []
    },
    {
      "cell_type": "markdown",
      "metadata": {
        "id": "HVbl5mgyYk6O",
        "colab_type": "text"
      },
      "source": [
        "Time to test it! Call your function, passing `TorcValues` as the first argument and a number of your choosing as the second. Do this a few times with different numbers and see what you get!"
      ]
    },
    {
      "cell_type": "code",
      "metadata": {
        "id": "vmnvMp-AYgDS",
        "colab_type": "code",
        "colab": {}
      },
      "source": [
        "plot_torc(TorcValues,10)"
      ],
      "execution_count": 0,
      "outputs": []
    },
    {
      "cell_type": "markdown",
      "metadata": {
        "id": "tQZAHIEjdKlb",
        "colab_type": "text"
      },
      "source": [
        "## **Fun's over - back to arrays**"
      ]
    },
    {
      "cell_type": "markdown",
      "metadata": {
        "id": "IrtHUOJLaATZ",
        "colab_type": "text"
      },
      "source": [
        "Alright, fun's over. The cell below you're just going to run, but it contains a particularly fun `for` loop variant that has three variables because we're using `enumerate()` and `.items()` to give us both the key and value from our dictionary.\n",
        "\n",
        "The gist of what is happening here is the same way we wanted a single array with all our response data, we want that for our TORCs. As part of the analysis, we need to `np.roll()` them out, which is basically just to say we're taking the TORC you saw above and shifting it one time bin to the left with each iteration then sticking that onto the bottom of the TORC for all 25 time bins, ending you up with a (375,25) TORC. We're doing that for all the TORCs and lining them up next to each other, left to right, 1-30, giving a new array of (375,750).\n",
        "\n",
        "When you run the code at the bottom we included code that will simply plot and tell you the shape of the array that contains the stimulus data, just so you believe us that what we told you happened actually happened."
      ]
    },
    {
      "cell_type": "code",
      "metadata": {
        "id": "uGktSKr2Y0P1",
        "colab_type": "code",
        "colab": {}
      },
      "source": [
        "ScaledTorcs = scale_torcs(TorcValues,Params)\n",
        "DelayTorcs = dict()\n",
        "for tt, (key, value) in enumerate(ScaledTorcs.items()):\n",
        "    for jj in range(value.shape[1]):\n",
        "        rolledtor = np.roll(value, (jj), axis=1)\n",
        "        if jj == 0:\n",
        "            torcdel = rolledtor\n",
        "        else:\n",
        "            torcdel = np.concatenate((torcdel, rolledtor), axis=0)\n",
        "    DelayTorcs[key] = torcdel\n",
        "    if tt == 0:\n",
        "        stimulus = torcdel\n",
        "    else:\n",
        "        stimulus = np.concatenate((stimulus, torcdel), axis=1)\n",
        "plt.imshow(stimulus,aspect='auto',origin='lower')\n",
        "stimulus.shape"
      ],
      "execution_count": 0,
      "outputs": []
    },
    {
      "cell_type": "markdown",
      "metadata": {
        "id": "6k97v72ngSl_",
        "colab_type": "text"
      },
      "source": [
        "Great, so our stimulus looks like a poster you could buy at Spencer's when you were a teenager!\n",
        "\n",
        "Now run the code below and allow some `magic` to occur which will put our response data in a nice uni-dimensional format."
      ]
    },
    {
      "cell_type": "code",
      "metadata": {
        "id": "0RZoSC0gcKk_",
        "colab_type": "code",
        "colab": {}
      },
      "source": [
        "Params['binsize'] = int(basep/TorcValues['TORC_448_LIN_10_h501'].shape[1])\n",
        "response = response_compiler(stacked,Params)\n",
        "response.shape"
      ],
      "execution_count": 0,
      "outputs": []
    },
    {
      "cell_type": "markdown",
      "metadata": {
        "id": "g0fTqxwPp8_k",
        "colab_type": "text"
      },
      "source": [
        "## **Calculating the STRF**"
      ]
    },
    {
      "cell_type": "markdown",
      "metadata": {
        "id": "MZUfX6xqllxF",
        "colab_type": "text"
      },
      "source": [
        "Now that we have stimulus and response data, we can use linear algebra to calculate the STRF, which will model how we got from stimulus to response and tell us a little bit about how the neuron recorded from encodes sound.\n",
        "\n",
        "The basic formula here is `strf = response*inverse of stimulus*inverse of correlation matrix`, or in the terms below `STRF = Y*XT*Cinv`"
      ]
    },
    {
      "cell_type": "code",
      "metadata": {
        "id": "V9tphr8kgD-d",
        "colab_type": "code",
        "colab": {}
      },
      "source": [
        "X = stimulus\n",
        "XT = np.swapaxes(stimulus, 0, 1)\n",
        "Y = np.swapaxes(np.expand_dims(response, axis=1), 0, 1)\n",
        "C = np.dot(X, XT)\n",
        "Cinv = np.linalg.pinv(C)\n",
        "STRF = np.reshape((np.dot(np.dot(Y, XT), Cinv)), (15, 25), order='F')\n",
        "STRF.shape\n",
        "plt.imshow(STRF,origin='lower')"
      ],
      "execution_count": 0,
      "outputs": []
    },
    {
      "cell_type": "markdown",
      "metadata": {
        "id": "BumWWuSCpvMc",
        "colab_type": "text"
      },
      "source": [
        "This is the STRF, so we did it! But like the TORCs earlier, this isn't super visually appealing to look at, let's smooth it up and add some labels like before. We'll talk about some of the other fun happening in the upper part of the portion."
      ]
    },
    {
      "cell_type": "code",
      "metadata": {
        "id": "DtZIgKZFpPa7",
        "colab_type": "code",
        "colab": {}
      },
      "source": [
        "def strfplot(strf,Params,smooth=0):\n",
        "    ylabels = []\n",
        "    freq = Params['lfreq']\n",
        "    for fff in range(Params['octaves']):\n",
        "        if fff != 0:\n",
        "            freq = freq * 2\n",
        "        ylabels.append(freq)\n",
        "    ticks = list([0,20,40,60,80])\n",
        "    if smooth:\n",
        "        smooth = [100, 250]\n",
        "        strfdata = interpft(interpft(strf,smooth[0], 0), smooth[1], 1)\n",
        "    else:\n",
        "        strfdata = strf\n",
        "        ticks = list([0,2,4,6,8,10,12,14])\n",
        "        ylabels = list([])\n",
        "    bf = best_frequency(strf,Params)\n",
        "  # Answer\n",
        "    <plt.imshow(strfdata,aspect='auto',origin='lower')\n",
        "    plt.xlabel('Time Lag (ms)')\n",
        "    plt.ylabel('Frequency (Hz)')\n",
        "    plt.yticks(ticks=ticks,labels=ylabels)\n",
        "    plt.title('STRF - Best Frequency: {}'.format(bf), fontweight='bold')>"
      ],
      "execution_count": 0,
      "outputs": []
    },
    {
      "cell_type": "markdown",
      "metadata": {
        "id": "pbTSU1bxsEhM",
        "colab_type": "text"
      },
      "source": [
        "Run it!\n",
        "\n",
        "Also, notice that new argument `smooth`, by default above we set it to zero, but down here it is 1, what's happening here? Try running the function with both a 0 then a 1 and see what is different. This is a cool way to use `if` statements too!"
      ]
    },
    {
      "cell_type": "code",
      "metadata": {
        "id": "12_d7k0RsCAL",
        "colab_type": "code",
        "colab": {}
      },
      "source": [
        "strfplot(STRF,Params,smooth=1)"
      ],
      "execution_count": 0,
      "outputs": []
    },
    {
      "cell_type": "markdown",
      "metadata": {
        "id": "gEVYT4jysY1h",
        "colab_type": "text"
      },
      "source": [
        "woo."
      ]
    },
    {
      "cell_type": "code",
      "metadata": {
        "id": "bGjAfHcwHvl7",
        "colab_type": "code",
        "colab": {}
      },
      "source": [
        ""
      ],
      "execution_count": 0,
      "outputs": []
    }
  ]
}