{
  "nbformat": 4,
  "nbformat_minor": 0,
  "metadata": {
    "colab": {
      "name": "STRFfun.ipynb",
      "provenance": [],
      "authorship_tag": "ABX9TyO3tgJnLdju1tWVPXvZp6Ex",
      "include_colab_link": true
    },
    "kernelspec": {
      "name": "python3",
      "display_name": "Python 3"
    }
  },
  "cells": [
    {
      "cell_type": "markdown",
      "metadata": {
        "id": "view-in-github",
        "colab_type": "text"
      },
      "source": [
        "<a href=\"https://colab.research.google.com/github/gregoryhamersky/NEUS642_20200204/blob/master/STRFfun.ipynb\" target=\"_parent\"><img src=\"https://colab.research.google.com/assets/colab-badge.svg\" alt=\"Open In Colab\"/></a>"
      ]
    },
    {
      "cell_type": "code",
      "metadata": {
        "id": "-TEJ1-1P34dw",
        "colab_type": "code",
        "colab": {}
      },
      "source": [
        ""
      ],
      "execution_count": 0,
      "outputs": []
    },
    {
      "cell_type": "markdown",
      "metadata": {
        "id": "GHSaUnfY5uF9",
        "colab_type": "text"
      },
      "source": [
        "## **Making an STRF**"
      ]
    },
    {
      "cell_type": "code",
      "metadata": {
        "id": "O3QRuhW75yE9",
        "colab_type": "code",
        "colab": {}
      },
      "source": [
        ""
      ],
      "execution_count": 0,
      "outputs": []
    },
    {
      "cell_type": "markdown",
      "metadata": {
        "id": "mLGWmYKOgiY2",
        "colab_type": "text"
      },
      "source": [
        "### **Loading the Data**\n",
        "Let's import some modules we'll be using throughout the lesson. First we'll import our olds friends `Numpy` and `matplotlib` then some newer ones like `pickle`. Also, we're going to import a few pre-made functions from code we already wrote to save some time, we'll give you a heads up when you need to call them and what they do when the time comes. (I'm also slipping `fs=1000` in there, that's just our sampling frequency and we'll need it for some things down the road)"
      ]
    },
    {
      "cell_type": "code",
      "metadata": {
        "id": "6v2lQqPLhXiD",
        "colab_type": "code",
        "colab": {}
      },
      "source": [
        "import numpy as np\n",
        "import matplotlib.pyplot as plt\n",
        "import pickle\n",
        "from pathlib import Path\n",
        "%matplotlib inline\n",
        "fs=1000\n",
        "from torc_functions_class import *"
      ],
      "execution_count": 0,
      "outputs": []
    },
    {
      "cell_type": "markdown",
      "metadata": {
        "id": "p98w6UY8igcR",
        "colab_type": "text"
      },
      "source": [
        "## **Exercise 1**\n",
        "Alright, so usually we would load recording files in a way where we must manually extract the data itself by calling on functions that search segments of the data in time called epochs and select only those where a stimulus is being played. That would be a fun exercise, but instead we pickled the stimulus and response data for you, which is also going to be a fun exercise.\n",
        "The data you will get is two dictionaries, basically the stimulus data which will be called `exptparams` and the response data `r`.\n",
        "\n",
        "So, let's unpickle! First, we need to find our pickles though. Let's do some pathfinding to locate them (this part will look familiar)."
      ]
    },
    {
      "cell_type": "code",
      "metadata": {
        "id": "QzA3KMZ3k070",
        "colab_type": "code",
        "colab": {
          "base_uri": "https://localhost:8080/",
          "height": 35
        },
        "outputId": "80318597-0998-4b7d-dd5f-b1c097f46be7"
      },
      "source": [
        "folder_path = input('Enter the path to the folder: ')"
      ],
      "execution_count": 2,
      "outputs": [
        {
          "output_type": "stream",
          "text": [
            "Enter the path to the folder: /Users/grego/OneDrive/Documents/Pickles\n"
          ],
          "name": "stdout"
        }
      ]
    },
    {
      "cell_type": "markdown",
      "metadata": {
        "id": "LGi-3TTvlPwu",
        "colab_type": "text"
      },
      "source": [
        "Okay, you now have a variable that is the path to the pickles, let's make a list of all the files within the folder we found."
      ]
    },
    {
      "cell_type": "code",
      "metadata": {
        "id": "dKHSp5vslg3q",
        "colab_type": "code",
        "colab": {}
      },
      "source": [
        "folder_list = list(Path(folder_path).iterdir())"
      ],
      "execution_count": 0,
      "outputs": []
    },
    {
      "cell_type": "markdown",
      "metadata": {
        "id": "svEuG-ecoqW3",
        "colab_type": "text"
      },
      "source": [
        "So we only have two files here, but imagine you had more, let's say 20 pickles and 20 random "
      ]
    },
    {
      "cell_type": "code",
      "metadata": {
        "id": "yRx0lcEIllz6",
        "colab_type": "code",
        "colab": {}
      },
      "source": [
        "pickle_list = [fn for fn in folder_list if fn.name.endswith('.pkl')]"
      ],
      "execution_count": 0,
      "outputs": []
    }
  ]
}
